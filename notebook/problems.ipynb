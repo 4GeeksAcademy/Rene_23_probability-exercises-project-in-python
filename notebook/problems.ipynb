{
 "cells": [
  {
   "cell_type": "markdown",
   "id": "a41f3622",
   "metadata": {},
   "source": [
    "# Probability exercises"
   ]
  },
  {
   "cell_type": "markdown",
   "id": "a6bdbd89",
   "metadata": {},
   "source": [
    "## Exercise 1 \n",
    "\n",
    "Two dices are thrown once and the total score is observed. Use a simulation to find the estimated probability that the total score is even or greater than 7.  A simulation is a repetition of the same experiment multiple times to observe its behavior:\n",
    "\n",
    "- Run the experiment 1000 times (roll 2 dice 1000 times, and sum the number of both dices).\n",
    "- Keep track of the number of times that the sum was either greater than 7 or an even number.\n",
    "- Divide the number from step 2 by the number of iterations (1000)."
   ]
  },
  {
   "cell_type": "code",
   "execution_count": 8,
   "id": "8939d892",
   "metadata": {},
   "outputs": [
    {
     "name": "stdout",
     "output_type": "stream",
     "text": [
      "Total de simulaciones:1000\n",
      "Numero de casos favorables:670\n",
      "Probabilidad estimada: 0.6700\n"
     ]
    }
   ],
   "source": [
    "# TODO\n",
    "import numpy as np\n",
    "\n",
    "num_simulaciones= 1000\n",
    "\n",
    "dado_1=np.random.randint(1,7,num_simulaciones)#>>>>>>esto repre. dos dados de 6 caras!!\n",
    "dado_2=np.random.randint(1,7,num_simulaciones)\n",
    "\n",
    "sumas=dado_1+dado_2\n",
    "\n",
    "escenario_favorable = np.sum((sumas > 7) | (sumas % 2 == 0))\n",
    "\n",
    "probabilidad=escenario_favorable/num_simulaciones\n",
    "print(f'Total de simulaciones:{num_simulaciones}')\n",
    "print(f'Numero de casos favorables:{escenario_favorable}')\n",
    "print(f\"Probabilidad estimada: {probabilidad:.4f}\")"
   ]
  },
  {
   "cell_type": "markdown",
   "id": "55732bca",
   "metadata": {},
   "source": [
    "## Exercise 2\n",
    "\n",
    "A box contains 10 white balls, 20 red balls and 30 green balls. If we take 5 balls from the box with replacement (we take the ball, observe what color it is and put it back into the box). We want to know the probability of:\n",
    "\n",
    "1. Take 3 white and 2 red.\n",
    "2. Take all of the same color.\n",
    "\n",
    "Run the experiment 1000 times and calculate the above probabilities."
   ]
  },
  {
   "cell_type": "code",
   "execution_count": 14,
   "id": "23244d20",
   "metadata": {},
   "outputs": [
    {
     "name": "stdout",
     "output_type": "stream",
     "text": [
      "['White', 'White', 'White', 'White', 'White', 'White', 'White', 'White', 'White', 'White', 'Red']\n",
      "Total de simulaciones: 1000\n",
      "Probabilidad de obtener exactamente 3 blancas y 2 rojas:0.0000\n",
      "f\"Probabilidad de obtener 5 bolas del mismo color: 0.0440\n"
     ]
    }
   ],
   "source": [
    "import numpy as np\n",
    "\n",
    "bolsa=['White']*10+['Red']*20+['Green']*30\n",
    "print(bolsa[:11])\n",
    "\n",
    "num_simulaciones=1000\n",
    "\n",
    "existos_3_blancas_2_rojas=0\n",
    "exitos_mismo_color=0\n",
    "\n",
    "for x in range(num_simulaciones):\n",
    "    muestra=np.random.choice(bolsa,size=5, replace=True)\n",
    "\n",
    "    #muestra 1:\n",
    "    if np.sum(muestra==\"white\")==3 and np.sum(muestra==\"Red\")==2:\n",
    "        existos_3_blancas_2_rojas +=1\n",
    "\n",
    "    #muestra 2:\n",
    "    if len(set(muestra))==1:\n",
    "        exitos_mismo_color +=1\n",
    "\n",
    "prob_3_blancas_2_rojas= existos_3_blancas_2_rojas/num_simulaciones\n",
    "prob_mismo_color= exitos_mismo_color/num_simulaciones\n",
    "\n",
    "print(f'Total de simulaciones: {num_simulaciones}')\n",
    "print(f'Probabilidad de obtener exactamente 3 blancas y 2 rojas:{prob_3_blancas_2_rojas:.4f}')\n",
    "print(f'f\"Probabilidad de obtener 5 bolas del mismo color: {prob_mismo_color:.4f}')\n",
    "\n"
   ]
  }
 ],
 "metadata": {
  "kernelspec": {
   "display_name": "Python 3",
   "language": "python",
   "name": "python3"
  },
  "language_info": {
   "codemirror_mode": {
    "name": "ipython",
    "version": 3
   },
   "file_extension": ".py",
   "mimetype": "text/x-python",
   "name": "python",
   "nbconvert_exporter": "python",
   "pygments_lexer": "ipython3",
   "version": "3.11.4"
  }
 },
 "nbformat": 4,
 "nbformat_minor": 5
}
